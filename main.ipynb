{
 "cells": [
  {
   "cell_type": "markdown",
   "id": "f5115af3",
   "metadata": {},
   "source": [
    "# Mask  Type Classification\n",
    "### Akanksha Panwar, Jatin Katyal & Rucha Shende\n",
    "Th goal is to classify given images into four classes based on what mask type the subject in the image is wearing. The four classes are:\n",
    "1. Cloth Mask (label 0)\n",
    "2. FFP2 Mask (label 1)\n",
    "3. No Mask (label 2)\n",
    "4. Surgical Mask (label 3)"
   ]
  },
  {
   "cell_type": "markdown",
   "id": "a642a378",
   "metadata": {},
   "source": [
    "Importing required packages"
   ]
  },
  {
   "cell_type": "code",
   "execution_count": 1,
   "id": "12462d62",
   "metadata": {},
   "outputs": [],
   "source": [
    "# For data loading and processing\n",
    "from torchvision.transforms import Compose,Resize,Normalize,ToTensor\n",
    "from torchvision.datasets import ImageFolder\n",
    "from torch.utils.data import DataLoader\n",
    "import math\n",
    "\n",
    "#For model\n",
    "import torch.nn as nn\n",
    "import torch.nn.functional as F\n",
    "import torch.optim as optim\n",
    "\n",
    "#For shwing images and graphs\n",
    "from matplotlib import pyplot as plt\n",
    "\n",
    "#For evaluation\n",
    "from sklearn.metrics import confusion_matrix\n",
    "\n",
    "#For generic torch functions\n",
    "import torch"
   ]
  },
  {
   "cell_type": "markdown",
   "id": "2e0719b4",
   "metadata": {},
   "source": [
    "declaring some constants variables"
   ]
  },
  {
   "cell_type": "code",
   "execution_count": 2,
   "id": "b81f6dfd",
   "metadata": {},
   "outputs": [],
   "source": [
    "imagePath = 'Data/classified/'\n",
    "mean=[0.485, 0.456, 0.406]\n",
    "std=[0.225, 0.225, 0.225]\n",
    "test_ratio = 0.2\n",
    "validation_ratio = 0.2"
   ]
  },
  {
   "cell_type": "markdown",
   "id": "283261ac",
   "metadata": {},
   "source": [
    "## Data\n",
    "The data used in the project is a combination of many sources.\n",
    "1. [Kaggle FaceMask Dataset](https://www.kaggle.com/andrewmvd/face-mask-detection): The data set has 853 images images of people wearing different kinds of masks with one or more person in frame. We used the anotations provided with dataset which contains the bounding boxes for more than 4000 faces  from orignal 853 images. These bounding  boxes were used to crop and extract the images with face mask. Later all these extracted images were manually labeled as Cloth Mask, FFP2 Mask, No Mask & Surgical Mask. Some of images were very small in resolution so we dropped those from our task.\n",
    "\n",
    "2. After carefully  selecting the images from above dataset we found a class imbalance in our dataset and we could use more images for the task. To supplement our dataset we searched  for images  related our task on [Google](https://www.google.ca) which lead to various websites."
   ]
  },
  {
   "cell_type": "markdown",
   "id": "f33b05ca",
   "metadata": {},
   "source": [
    "Using ImageFolder and DataLoader for finding dataset andusing Compose to preprocess images using Resize & Normalize."
   ]
  },
  {
   "cell_type": "code",
   "execution_count": 4,
   "id": "85bc3279",
   "metadata": {},
   "outputs": [],
   "source": [
    "transformer = Compose([Resize((128,128)), ToTensor(), Normalize(mean=mean,std=std)])\n",
    "data = ImageFolder(root=imagePath, transform=transformer)\n",
    "loader = DataLoader(data,batch_size=32)"
   ]
  },
  {
   "cell_type": "markdown",
   "id": "ee633fa2",
   "metadata": {},
   "source": [
    "## Train validation test split\n",
    "We reserved 20% data for testing and rest was again devided into 80% training & 20% validation."
   ]
  },
  {
   "cell_type": "code",
   "execution_count": 5,
   "id": "d7b92780",
   "metadata": {},
   "outputs": [
    {
     "name": "stdout",
     "output_type": "stream",
     "text": [
      "train_size:849, validation_size:212, test_size:265, total:1326\n"
     ]
    }
   ],
   "source": [
    "# Defining Test Validation & Train sizes\n",
    "test_size = math.floor(test_ratio*len(data))\n",
    "train_size = len(data) - test_size\n",
    "validation_size = math.floor(validation_ratio*train_size)\n",
    "train_size -= validation_size\n",
    "print('train_size:{}, validation_size:{}, test_size:{}, total:{}'.format(train_size,validation_size,test_size,\n",
    "                                                                         train_size+validation_size+test_size))"
   ]
  },
  {
   "cell_type": "code",
   "execution_count": 6,
   "id": "bc9ff97a",
   "metadata": {},
   "outputs": [],
   "source": [
    "# Loaders with split\n",
    "torch.manual_seed(0)\n",
    "shuffledIndices = torch.randperm(len(data))\n",
    "train_loader = DataLoader(data,batch_size=32,sampler=shuffledIndices[:train_size])\n",
    "validation_loader = DataLoader(data,batch_size=32,sampler=shuffledIndices[train_size:train_size+validation_size])\n",
    "test_loader = DataLoader(data,batch_size=32,sampler=shuffledIndices[train_size+validation_size:])"
   ]
  },
  {
   "cell_type": "markdown",
   "id": "616fb5cc",
   "metadata": {},
   "source": [
    "## Model defination\n",
    "Below is the model that performed best on test set."
   ]
  },
  {
   "cell_type": "code",
   "execution_count": 10,
   "id": "6da17b48",
   "metadata": {},
   "outputs": [],
   "source": [
    "class ConvNet5(nn.Module):\n",
    "    def __init__(self):\n",
    "        super().__init__()\n",
    "        self.convlayers =  nn.Sequential(\n",
    "            nn.Conv2d(3,32,3,padding=1), nn.BatchNorm2d(32), nn.LeakyReLU(),\n",
    "            nn.Conv2d(32,32,3,padding=1), nn.BatchNorm2d(32), nn.LeakyReLU(),\n",
    "            nn.MaxPool2d(2,2),\n",
    "            nn.Conv2d(32,64,3,padding=1), nn.BatchNorm2d(64), nn.LeakyReLU(),\n",
    "            nn.Conv2d(64,64,3,padding=1), nn.BatchNorm2d(64), nn.LeakyReLU(),\n",
    "            nn.MaxPool2d(2,2),\n",
    "            nn.Conv2d(64,128,3,padding=1), nn.BatchNorm2d(128), nn.LeakyReLU(),\n",
    "            nn.Conv2d(128,128,3,padding=1), nn.BatchNorm2d(128), nn.LeakyReLU(),\n",
    "            nn.MaxPool2d(2,2)\n",
    "        )\n",
    "        self.FC = nn.Sequential(\n",
    "            nn.Linear(128*16*16,50),\n",
    "            nn.Linear(50,4)\n",
    "            \n",
    "        )\n",
    "    \n",
    "    def forward(self,X):\n",
    "        X = self.convlayers(X)\n",
    "        X =  self.FC(X.reshape(-1,128*16*16))\n",
    "        return X"
   ]
  },
  {
   "cell_type": "markdown",
   "id": "b67b3c95",
   "metadata": {},
   "source": [
    "## Training\n",
    "A learning rate of 0.00001 is used"
   ]
  },
  {
   "cell_type": "code",
   "execution_count": 42,
   "id": "2bb8a4b7",
   "metadata": {},
   "outputs": [],
   "source": [
    "cnn = ConvNet5().cuda()\n",
    "optimizer = optim.Adam(cnn.parameters(),lr=0.00001)\n",
    "loss_func = nn.CrossEntropyLoss()\n",
    "epochs = 1\n",
    "training_losses = []\n",
    "validation_losses = []"
   ]
  },
  {
   "cell_type": "markdown",
   "id": "30c58bd9",
   "metadata": {},
   "source": [
    "We use 10 pochs at once to train and see the training and validation losses and decide upon if further training is needed."
   ]
  },
  {
   "cell_type": "code",
   "execution_count": null,
   "id": "8c4fcc2a",
   "metadata": {},
   "outputs": [],
   "source": [
    "for e in range(epochs, epochs+15):\n",
    "    cnn.train()\n",
    "    training_loss=0\n",
    "    for i, (batch,labels) in enumerate(train_loader):\n",
    "        y_h = cnn(batch.cuda())\n",
    "        cnn.zero_grad()\n",
    "        training_loss = loss_func(y_h,labels.cuda())\n",
    "        training_loss.backward()\n",
    "        optimizer.step()\n",
    "    training_losses.append(training_loss)\n",
    "    \n",
    "    #'''\n",
    "    cnn.eval()\n",
    "    validation_loss=0\n",
    "    for i, (batch,labels) in enumerate(validation_loader):\n",
    "        with torch.no_grad():\n",
    "            y_h = cnn(batch.cuda())\n",
    "            validation_loss = loss_func(y_h,labels.cuda())\n",
    "    validation_losses.append(validation_loss)\n",
    "    #'''\n",
    "    print('Epoch:{}, training_loss:{}, validation_losses:{}'.format(e,training_loss,validation_loss))\n",
    "epochs+=10\n",
    "\n",
    "plt.figure()\n",
    "plt.plot(training_losses,label='Training Loss')\n",
    "plt.plot(validation_losses,label='Validation Loss')\n",
    "plt.xlabel('Epochs')\n",
    "plt.ylabel('Loss')\n",
    "plt.title('Cross Entropy Loss')\n",
    "plt.legend()"
   ]
  },
  {
   "cell_type": "markdown",
   "id": "f6a60707",
   "metadata": {},
   "source": [
    "## Evaluation"
   ]
  },
  {
   "cell_type": "code",
   "execution_count": 122,
   "id": "64843633",
   "metadata": {},
   "outputs": [
    {
     "name": "stderr",
     "output_type": "stream",
     "text": [
      "/home/jatin/anaconda3/envs/py36/lib/python3.6/site-packages/ipykernel_launcher.py:7: UserWarning: Implicit dimension choice for softmax has been deprecated. Change the call to include dim=X as an argument.\n",
      "  import sys\n"
     ]
    }
   ],
   "source": [
    "all_y = []\n",
    "all_y_h = []\n",
    "cnn.eval()\n",
    "with torch.no_grad():\n",
    "    for  i,(X,y) in enumerate(test_loader):\n",
    "        y_h = cnn(X.cuda()).cpu()\n",
    "        y_h = torch.argmax(F.softmax(y_h),dim=1)\n",
    "        if all_y==[]:\n",
    "            all_y=y[:]\n",
    "            all_y_h = y_h[:]\n",
    "            \n",
    "        else:\n",
    "            all_y = torch.hstack([all_y,y])\n",
    "            all_y_h = torch.hstack([all_y_h,y_h])"
   ]
  },
  {
   "cell_type": "code",
   "execution_count": 124,
   "id": "3adb005a",
   "metadata": {},
   "outputs": [
    {
     "name": "stdout",
     "output_type": "stream",
     "text": [
      "Accuracy:  tensor(0.7321)\n",
      "Precision:  0.7478657716910747\n",
      "Recall:  0.7320754716981132\n",
      "F1:  0.7324854542477472\n",
      "[[37  5  2 18]\n",
      " [ 3 35  1 21]\n",
      " [ 4  0 65  1]\n",
      " [11  5  0 57]]\n"
     ]
    }
   ],
   "source": [
    "from sklearn.metrics import confusion_matrix, multilabel_confusion_matrix\n",
    "from sklearn.metrics import accuracy_score, precision_score, recall_score, f1_score\n",
    "\n",
    "\n",
    "print('Accuracy: ',(all_y==all_y_h).sum()/len(all_y))\n",
    "print('Precision: ',precision_score(all_y,all_y_h,average='weighted'))\n",
    "print('Recall: ',recall_score(all_y,all_y_h,average='weighted'))\n",
    "print('F1: ',f1_score(all_y,all_y_h,average='weighted'))\n",
    "print(confusion_matrix(all_y,all_y_h))\n",
    "#print(multilabel_confusion_matrix(all_y,all_y_h))\n"
   ]
  },
  {
   "cell_type": "markdown",
   "id": "8b3735e4",
   "metadata": {},
   "source": [
    "## Different Models we tried"
   ]
  },
  {
   "cell_type": "code",
   "execution_count": 25,
   "id": "d3548a79",
   "metadata": {},
   "outputs": [],
   "source": [
    "'''models = []'''"
   ]
  },
  {
   "cell_type": "code",
   "execution_count": 44,
   "id": "e6d935f8",
   "metadata": {},
   "outputs": [],
   "source": [
    "'''models.append({\n",
    "    'model':cnn,\n",
    "    'optimizer':optimizer,\n",
    "    'loss_func':loss_func,\n",
    "    'epochs': epochs,\n",
    "    'training_losses':training_losses,\n",
    "    'validation_losses':validation_losses\n",
    "    })'''"
   ]
  },
  {
   "cell_type": "code",
   "execution_count": 7,
   "id": "f24c04f2",
   "metadata": {},
   "outputs": [],
   "source": [
    "class ConvNet1(nn.Module):\n",
    "    def __init__(self):\n",
    "        super().__init__()\n",
    "        self.convlayers =  nn.Sequential(\n",
    "            nn.Conv2d(3,32,3), nn.BatchNorm2d(32), nn.LeakyReLU(),\n",
    "            nn.Conv2d(32,32,3), nn.BatchNorm2d(32), nn.LeakyReLU(),\n",
    "            nn.MaxPool2d(2,2),\n",
    "            nn.Conv2d(32,64,3), nn.BatchNorm2d(64), nn.LeakyReLU(),\n",
    "            nn.Conv2d(64,64,3), nn.BatchNorm2d(64), nn.LeakyReLU(),\n",
    "            nn.MaxPool2d(2,2),\n",
    "            nn.Conv2d(64,128,3), nn.BatchNorm2d(128), nn.LeakyReLU(),\n",
    "            nn.Conv2d(128,128,3), nn.BatchNorm2d(128), nn.LeakyReLU(),\n",
    "            nn.MaxPool2d(2,2)\n",
    "        )\n",
    "        self.FC = nn.Sequential(\n",
    "            nn.Linear(128*12*12,4)            \n",
    "        )\n",
    "    \n",
    "    def forward(self,X):\n",
    "        X = self.convlayers(X)\n",
    "        X =  self.FC(X.reshape(-1,128*12*12))\n",
    "        return X"
   ]
  },
  {
   "cell_type": "code",
   "execution_count": 8,
   "id": "26f539e9",
   "metadata": {},
   "outputs": [],
   "source": [
    "class ConvNet2(nn.Module):\n",
    "    def __init__(self):\n",
    "        super().__init__()\n",
    "        self.convlayers =  nn.Sequential(\n",
    "            nn.Conv2d(3,32,3,padding=1), nn.BatchNorm2d(32), nn.LeakyReLU(),\n",
    "            nn.Conv2d(32,32,3,padding=1), nn.BatchNorm2d(32), nn.LeakyReLU(),\n",
    "            nn.MaxPool2d(2,2),\n",
    "            nn.Conv2d(32,64,3,padding=1), nn.BatchNorm2d(64), nn.LeakyReLU(),\n",
    "            nn.Conv2d(64,64,3,padding=1), nn.BatchNorm2d(64), nn.LeakyReLU(),\n",
    "            nn.MaxPool2d(2,2),\n",
    "            nn.Conv2d(64,128,3,padding=1), nn.BatchNorm2d(128), nn.LeakyReLU(),\n",
    "            nn.Conv2d(128,128,3,padding=1), nn.BatchNorm2d(128), nn.LeakyReLU(),\n",
    "            nn.MaxPool2d(2,2)\n",
    "        )\n",
    "        self.FC = nn.Sequential(\n",
    "            nn.Linear(128*16*16,4)            \n",
    "        )\n",
    "    \n",
    "    def forward(self,X):\n",
    "        X = self.convlayers(X)\n",
    "        X =  self.FC(X.reshape(-1,128*16*16))\n",
    "        return X"
   ]
  },
  {
   "cell_type": "code",
   "execution_count": 9,
   "id": "0fa762f6",
   "metadata": {},
   "outputs": [],
   "source": [
    "class ConvNet3(nn.Module):\n",
    "    def __init__(self):\n",
    "        super().__init__()\n",
    "        self.convlayers =  nn.Sequential(\n",
    "            nn.Conv2d(3,32,3,padding=1), nn.BatchNorm2d(32), nn.LeakyReLU(),\n",
    "            nn.Conv2d(32,32,3,padding=1), nn.BatchNorm2d(32), nn.LeakyReLU(),\n",
    "            nn.Conv2d(32,32,3,padding=1), nn.BatchNorm2d(32), nn.LeakyReLU(),\n",
    "            nn.MaxPool2d(2,2),\n",
    "            nn.Conv2d(32,64,3,padding=1), nn.BatchNorm2d(64), nn.LeakyReLU(),\n",
    "            nn.Conv2d(64,64,3,padding=1), nn.BatchNorm2d(64), nn.LeakyReLU(),\n",
    "            nn.Conv2d(64,64,3,padding=1), nn.BatchNorm2d(64), nn.LeakyReLU(),\n",
    "            nn.MaxPool2d(2,2),\n",
    "            nn.Conv2d(64,128,3,padding=1), nn.BatchNorm2d(128), nn.LeakyReLU(),\n",
    "            nn.Conv2d(128,128,3,padding=1), nn.BatchNorm2d(128), nn.LeakyReLU(),\n",
    "            nn.Conv2d(128,128,3,padding=1), nn.BatchNorm2d(128), nn.LeakyReLU(),\n",
    "            nn.MaxPool2d(2,2),\n",
    "        )\n",
    "        self.FC = nn.Sequential(\n",
    "            nn.Linear(128*16*16,4)\n",
    "        )\n",
    "    \n",
    "    def forward(self,X):\n",
    "        X = self.convlayers(X)\n",
    "        X =  self.FC(X.reshape(-1,128*16*16))\n",
    "        return X"
   ]
  },
  {
   "cell_type": "code",
   "execution_count": 12,
   "id": "1a1ed35a",
   "metadata": {},
   "outputs": [],
   "source": [
    "class ConvNet4(nn.Module):\n",
    "    def __init__(self):\n",
    "        super().__init__()\n",
    "        self.convlayers =  nn.Sequential(\n",
    "            nn.Conv2d(3,32,3,padding=1), nn.BatchNorm2d(32), nn.LeakyReLU(),\n",
    "            nn.Conv2d(32,32,3,padding=1), nn.BatchNorm2d(32), nn.LeakyReLU(),\n",
    "            nn.MaxPool2d(2,2),\n",
    "            nn.Conv2d(32,64,3,padding=1), nn.BatchNorm2d(64), nn.LeakyReLU(),\n",
    "            nn.Conv2d(64,64,3,padding=1), nn.BatchNorm2d(64), nn.LeakyReLU(),\n",
    "            nn.MaxPool2d(2,2),\n",
    "            nn.Conv2d(64,128,3,padding=1), nn.BatchNorm2d(128), nn.LeakyReLU(),\n",
    "            nn.Conv2d(128,128,3,padding=1), nn.BatchNorm2d(128), nn.LeakyReLU(),\n",
    "            nn.MaxPool2d(2,2)\n",
    "        )\n",
    "        self.FC = nn.Sequential(\n",
    "            nn.Linear(128*16*16,10),\n",
    "            nn.Linear(10,4)\n",
    "            \n",
    "        )\n",
    "    \n",
    "    def forward(self,X):\n",
    "        X = self.convlayers(X)\n",
    "        X =  self.FC(X.reshape(-1,128*16*16))\n",
    "        return X"
   ]
  },
  {
   "cell_type": "code",
   "execution_count": 11,
   "id": "085cca6e",
   "metadata": {},
   "outputs": [],
   "source": [
    "class ConvNet6(nn.Module):\n",
    "    def __init__(self):\n",
    "        super().__init__()\n",
    "        self.convlayers =  nn.Sequential(\n",
    "            nn.Conv2d(3,32,3,padding=1), nn.BatchNorm2d(32), nn.LeakyReLU(),\n",
    "            nn.Conv2d(32,32,3,padding=1), nn.BatchNorm2d(32), nn.LeakyReLU(),\n",
    "            nn.MaxPool2d(2,2),\n",
    "            nn.Conv2d(32,64,3,padding=1), nn.BatchNorm2d(64), nn.LeakyReLU(),\n",
    "            nn.Conv2d(64,64,3,padding=1), nn.BatchNorm2d(64), nn.LeakyReLU(),\n",
    "            nn.MaxPool2d(2,2),\n",
    "            nn.Conv2d(64,128,3,padding=1), nn.BatchNorm2d(128), nn.LeakyReLU(),\n",
    "            nn.Conv2d(128,128,3,padding=1), nn.BatchNorm2d(128), nn.LeakyReLU(),\n",
    "            nn.MaxPool2d(2,2)\n",
    "        )\n",
    "        self.FC = nn.Sequential(\n",
    "            nn.Linear(128*16*16,50),\n",
    "            nn.Linear(50,10),\n",
    "            nn.Linear(10,4)\n",
    "            \n",
    "        )\n",
    "    \n",
    "    def forward(self,X):\n",
    "        X = self.convlayers(X)\n",
    "        X =  self.FC(X.reshape(-1,128*16*16))\n",
    "        return X"
   ]
  },
  {
   "cell_type": "markdown",
   "id": "db9bc346",
   "metadata": {},
   "source": [
    "## Best Model"
   ]
  },
  {
   "cell_type": "code",
   "execution_count": 46,
   "id": "2c46b7ec",
   "metadata": {},
   "outputs": [
    {
     "data": {
      "image/png": "[encoded data removed]",
      "text/plain": [
       "<Figure size 432x288 with 1 Axes>"
      ]
     },
     "metadata": {
      "needs_background": "light"
     },
     "output_type": "display_data"
    },
    {
     "data": {
      "image/png": "[encoded data removed]",
      "text/plain": [
       "<Figure size 432x288 with 1 Axes>"
      ]
     },
     "metadata": {
      "needs_background": "light"
     },
     "output_type": "display_data"
    },
    {
     "data": {
      "image/png": "[encoded data removed]",
      "text/plain": [
       "<Figure size 432x288 with 1 Axes>"
      ]
     },
     "metadata": {
      "needs_background": "light"
     },
     "output_type": "display_data"
    },
    {
     "data": {
      "image/png": "[encoded data removed]",
      "text/plain": [
       "<Figure size 432x288 with 1 Axes>"
      ]
     },
     "metadata": {
      "needs_background": "light"
     },
     "output_type": "display_data"
    },
    {
     "data": {
      "image/png": "[encoded data removed]",
      "text/plain": [
       "<Figure size 432x288 with 1 Axes>"
      ]
     },
     "metadata": {
      "needs_background": "light"
     },
     "output_type": "display_data"
    },
    {
     "data": {
      "image/png": "[encoded data removed]",
      "text/plain": [
       "<Figure size 432x288 with 1 Axes>"
      ]
     },
     "metadata": {
      "needs_background": "light"
     },
     "output_type": "display_data"
    }
   ],
   "source": [
    "'''for model in models:\n",
    "    plt.figure()\n",
    "    plt.plot(model['training_losses'],label='Training Loss')\n",
    "    plt.plot(model['validation_losses'],label='Validation Loss')\n",
    "    plt.xlabel('Epochs')\n",
    "    plt.ylabel('Loss')\n",
    "    plt.title(type(model['model']))\n",
    "    plt.legend()'''"
   ]
  },
  {
   "cell_type": "code",
   "execution_count": 48,
   "id": "80901583",
   "metadata": {},
   "outputs": [
    {
     "name": "stderr",
     "output_type": "stream",
     "text": [
      "/home/jatin/anaconda3/envs/py36/lib/python3.6/site-packages/ipykernel_launcher.py:8: UserWarning: Implicit dimension choice for softmax has been deprecated. Change the call to include dim=X as an argument.\n",
      "  \n"
     ]
    },
    {
     "name": "stdout",
     "output_type": "stream",
     "text": [
      "<class '__main__.ConvNet1'> Test Accuracy:  68.68\n",
      "<class '__main__.ConvNet2'> Test Accuracy:  69.43\n",
      "<class '__main__.ConvNet3'> Test Accuracy:  68.3\n",
      "<class '__main__.ConvNet4'> Test Accuracy:  71.7\n",
      "<class '__main__.ConvNet5'> Test Accuracy:  73.21\n",
      "<class '__main__.ConvNet6'> Test Accuracy:  71.7\n"
     ]
    }
   ],
   "source": [
    "'''for model in models:\n",
    "    correct=0\n",
    "    cnn.eval()\n",
    "    with torch.no_grad():\n",
    "        for  i,(X,y) in enumerate(test_loader): \n",
    "            m = model['model']\n",
    "            y_h = m(X.cuda()).cpu()\n",
    "            correct += (y==torch.argmax(F.softmax(y_h),dim=1)).sum()\n",
    "    print(str(type(model['model']))+' Test Accuracy: ',round(float(correct/len(test_loader.sampler))*100,2))'''"
   ]
  },
  {
   "cell_type": "code",
   "execution_count": 49,
   "id": "fe574778",
   "metadata": {},
   "outputs": [],
   "source": [
    "'''\n",
    "for m in models:\n",
    "    f = open(str(type(m['model']))+'.pkl','wb')\n",
    "    pickle.dump(m,f)\n",
    "    f.close()\n",
    "'''"
   ]
  },
  {
   "cell_type": "code",
   "execution_count": 110,
   "id": "4ef51cc5",
   "metadata": {},
   "outputs": [
    {
     "data": {
      "text/plain": [
       "ConvNet5(\n",
       "  (convlayers): Sequential(\n",
       "    (0): Conv2d(3, 32, kernel_size=(3, 3), stride=(1, 1), padding=(1, 1))\n",
       "    (1): BatchNorm2d(32, eps=1e-05, momentum=0.1, affine=True, track_running_stats=True)\n",
       "    (2): LeakyReLU(negative_slope=0.01)\n",
       "    (3): Conv2d(32, 32, kernel_size=(3, 3), stride=(1, 1), padding=(1, 1))\n",
       "    (4): BatchNorm2d(32, eps=1e-05, momentum=0.1, affine=True, track_running_stats=True)\n",
       "    (5): LeakyReLU(negative_slope=0.01)\n",
       "    (6): MaxPool2d(kernel_size=2, stride=2, padding=0, dilation=1, ceil_mode=False)\n",
       "    (7): Conv2d(32, 64, kernel_size=(3, 3), stride=(1, 1), padding=(1, 1))\n",
       "    (8): BatchNorm2d(64, eps=1e-05, momentum=0.1, affine=True, track_running_stats=True)\n",
       "    (9): LeakyReLU(negative_slope=0.01)\n",
       "    (10): Conv2d(64, 64, kernel_size=(3, 3), stride=(1, 1), padding=(1, 1))\n",
       "    (11): BatchNorm2d(64, eps=1e-05, momentum=0.1, affine=True, track_running_stats=True)\n",
       "    (12): LeakyReLU(negative_slope=0.01)\n",
       "    (13): MaxPool2d(kernel_size=2, stride=2, padding=0, dilation=1, ceil_mode=False)\n",
       "    (14): Conv2d(64, 128, kernel_size=(3, 3), stride=(1, 1), padding=(1, 1))\n",
       "    (15): BatchNorm2d(128, eps=1e-05, momentum=0.1, affine=True, track_running_stats=True)\n",
       "    (16): LeakyReLU(negative_slope=0.01)\n",
       "    (17): Conv2d(128, 128, kernel_size=(3, 3), stride=(1, 1), padding=(1, 1))\n",
       "    (18): BatchNorm2d(128, eps=1e-05, momentum=0.1, affine=True, track_running_stats=True)\n",
       "    (19): LeakyReLU(negative_slope=0.01)\n",
       "    (20): MaxPool2d(kernel_size=2, stride=2, padding=0, dilation=1, ceil_mode=False)\n",
       "  )\n",
       "  (FC): Sequential(\n",
       "    (0): Linear(in_features=32768, out_features=50, bias=True)\n",
       "    (1): Linear(in_features=50, out_features=4, bias=True)\n",
       "  )\n",
       ")"
      ]
     },
     "execution_count": 110,
     "metadata": {},
     "output_type": "execute_result"
    }
   ],
   "source": [
    "'''models[4]['model']'''"
   ]
  },
  {
   "cell_type": "code",
   "execution_count": null,
   "id": "b6aeccda",
   "metadata": {},
   "outputs": [],
   "source": []
  }
 ],
 "metadata": {
  "kernelspec": {
   "display_name": "Python 3",
   "language": "python",
   "name": "python3"
  },
  "language_info": {
   "codemirror_mode": {
    "name": "ipython",
    "version": 3
   },
   "file_extension": ".py",
   "mimetype": "text/x-python",
   "name": "python",
   "nbconvert_exporter": "python",
   "pygments_lexer": "ipython3",
   "version": "3.6.10"
  }
 },
 "nbformat": 4,
 "nbformat_minor": 5
}
